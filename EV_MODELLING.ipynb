{
  "nbformat": 4,
  "nbformat_minor": 0,
  "metadata": {
    "colab": {
      "provenance": [],
      "authorship_tag": "ABX9TyPGXmSaaHIU9i9rjTpZjAgT",
      "include_colab_link": true
    },
    "kernelspec": {
      "name": "python3",
      "display_name": "Python 3"
    },
    "language_info": {
      "name": "python"
    }
  },
  "cells": [
    {
      "cell_type": "markdown",
      "metadata": {
        "id": "view-in-github",
        "colab_type": "text"
      },
      "source": [
        "<a href=\"https://colab.research.google.com/github/claudia2320/MASTERS-PROJECT/blob/main/EV_MODELLING.ipynb\" target=\"_parent\"><img src=\"https://colab.research.google.com/assets/colab-badge.svg\" alt=\"Open In Colab\"/></a>"
      ]
    },
    {
      "cell_type": "code",
      "source": [
        "# Import necessary libraries\n",
        "import numpy as np\n",
        "import pandas as pd\n",
        "from scipy.optimize import minimize\n",
        "import matplotlib.pyplot as plt\n",
        "%matplotlib inline\n",
        "import seaborn as sns\n",
        "from IPython.core.display import display, HTML"
      ],
      "metadata": {
        "id": "xI0hIrV50OBh"
      },
      "execution_count": null,
      "outputs": []
    },
    {
      "cell_type": "markdown",
      "source": [
        "# Define Market Variants\n",
        "\n",
        "These are guesses for each p market variants\n",
        "\n",
        "NOTE: these are assumed for the purpose of writing the code but will have to be changed in correlation to JLR's models"
      ],
      "metadata": {
        "id": "hyKhlv00C-02"
      }
    },
    {
      "cell_type": "code",
      "source": [
        "# Define vehicle variants with attributes\n",
        "vehicle_variants = {\n",
        "    \"p1\": [50, 600, 3.5, 250, 0.3],  # Compact SUV\n",
        "    \"p2\": [55, 650, 3.8, 270, 0.35],  # Midsize SUV\n",
        "    \"p3\": [60, 700, 4.0, 300, 0.4],   # Full-size SUV\n",
        "}\n",
        "\n",
        "# Prices and expected market demand\n",
        "prices = [49900, 61600, 80000]\n",
        "demands = [140000, 100000, 80000]\n",
        "\n",
        "# Function to display styled DataFrame\n",
        "def display_styled_dataframe(df, title):\n",
        "    \"\"\"\n",
        "    Display a formatted DataFrame with improved readability.\n",
        "\n",
        "    Parameters:\n",
        "    df (pd.DataFrame): The DataFrame to be displayed.\n",
        "    title (str): Title of the table.\n",
        "    \"\"\"\n",
        "    styled_df = df.style.set_table_styles([\n",
        "        {'selector': 'th', 'props': [\n",
        "            ('font-family', 'DM Sans'),\n",
        "            ('font-size', '15px'),\n",
        "            ('text-align', 'center'),\n",
        "            ('background-color', '#4990F3'),\n",
        "            ('color', 'white'),\n",
        "            ('padding', '10px')\n",
        "        ]},\n",
        "        {'selector': 'td', 'props': [\n",
        "            ('font-family', 'DM Sans'),\n",
        "            ('font-size', '13px'),\n",
        "            ('text-align', 'center'),\n",
        "            ('background-color', '#9FADF2'),\n",
        "            ('color', 'white'),\n",
        "            ('padding', '8px')\n",
        "        ]}\n",
        "    ]).set_properties(**{\n",
        "        'border': '1px solid black',\n",
        "        'padding': '8px'\n",
        "    })\n",
        "\n",
        "    display(HTML(f\"<h3 style='color: #4990F3; font-family: DM Sans;'>{title}</h3>\"))\n",
        "    display(styled_df)\n",
        "\n",
        "# Create DataFrame from vehicle variants dictionary\n",
        "df_design_variables = pd.DataFrame.from_dict(vehicle_variants, orient=\"index\",\n",
        "                                             columns=[\"BC (Battery Capacity)\", \"PW (Platform Weight)\",\n",
        "                                                      \"MP (Motor Power)\", \"ID (Interior Dimensions)\",\n",
        "                                                      \"CD (Aerodynamic Coefficient)\"])\n",
        "\n",
        "# Display formatted table\n",
        "display_styled_dataframe(df_design_variables, \"Design Variables for Vehicle Variants\")\n",
        "\n"
      ],
      "metadata": {
        "colab": {
          "base_uri": "https://localhost:8080/",
          "height": 213
        },
        "id": "fNpVBOupC9WY",
        "outputId": "2007e2c8-edca-4933-9d9e-f078dd006e9a"
      },
      "execution_count": null,
      "outputs": [
        {
          "output_type": "display_data",
          "data": {
            "text/plain": [
              "<IPython.core.display.HTML object>"
            ],
            "text/html": [
              "<h3 style='color: #4990F3; font-family: DM Sans;'>Design Variables for Vehicle Variants</h3>"
            ]
          },
          "metadata": {}
        },
        {
          "output_type": "display_data",
          "data": {
            "text/plain": [
              "<pandas.io.formats.style.Styler at 0x7a2820738110>"
            ],
            "text/html": [
              "<style type=\"text/css\">\n",
              "#T_f5a3e th {\n",
              "  font-family: DM Sans;\n",
              "  font-size: 15px;\n",
              "  text-align: center;\n",
              "  background-color: #4990F3;\n",
              "  color: white;\n",
              "  padding: 10px;\n",
              "}\n",
              "#T_f5a3e td {\n",
              "  font-family: DM Sans;\n",
              "  font-size: 13px;\n",
              "  text-align: center;\n",
              "  background-color: #9FADF2;\n",
              "  color: white;\n",
              "  padding: 8px;\n",
              "}\n",
              "#T_f5a3e_row0_col0, #T_f5a3e_row0_col1, #T_f5a3e_row0_col2, #T_f5a3e_row0_col3, #T_f5a3e_row0_col4, #T_f5a3e_row1_col0, #T_f5a3e_row1_col1, #T_f5a3e_row1_col2, #T_f5a3e_row1_col3, #T_f5a3e_row1_col4, #T_f5a3e_row2_col0, #T_f5a3e_row2_col1, #T_f5a3e_row2_col2, #T_f5a3e_row2_col3, #T_f5a3e_row2_col4 {\n",
              "  border: 1px solid black;\n",
              "  padding: 8px;\n",
              "}\n",
              "</style>\n",
              "<table id=\"T_f5a3e\" class=\"dataframe\">\n",
              "  <thead>\n",
              "    <tr>\n",
              "      <th class=\"blank level0\" >&nbsp;</th>\n",
              "      <th id=\"T_f5a3e_level0_col0\" class=\"col_heading level0 col0\" >BC (Battery Capacity)</th>\n",
              "      <th id=\"T_f5a3e_level0_col1\" class=\"col_heading level0 col1\" >PW (Platform Weight)</th>\n",
              "      <th id=\"T_f5a3e_level0_col2\" class=\"col_heading level0 col2\" >MP (Motor Power)</th>\n",
              "      <th id=\"T_f5a3e_level0_col3\" class=\"col_heading level0 col3\" >ID (Interior Dimensions)</th>\n",
              "      <th id=\"T_f5a3e_level0_col4\" class=\"col_heading level0 col4\" >CD (Aerodynamic Coefficient)</th>\n",
              "    </tr>\n",
              "  </thead>\n",
              "  <tbody>\n",
              "    <tr>\n",
              "      <th id=\"T_f5a3e_level0_row0\" class=\"row_heading level0 row0\" >p1</th>\n",
              "      <td id=\"T_f5a3e_row0_col0\" class=\"data row0 col0\" >50</td>\n",
              "      <td id=\"T_f5a3e_row0_col1\" class=\"data row0 col1\" >600</td>\n",
              "      <td id=\"T_f5a3e_row0_col2\" class=\"data row0 col2\" >3.500000</td>\n",
              "      <td id=\"T_f5a3e_row0_col3\" class=\"data row0 col3\" >250</td>\n",
              "      <td id=\"T_f5a3e_row0_col4\" class=\"data row0 col4\" >0.300000</td>\n",
              "    </tr>\n",
              "    <tr>\n",
              "      <th id=\"T_f5a3e_level0_row1\" class=\"row_heading level0 row1\" >p2</th>\n",
              "      <td id=\"T_f5a3e_row1_col0\" class=\"data row1 col0\" >55</td>\n",
              "      <td id=\"T_f5a3e_row1_col1\" class=\"data row1 col1\" >650</td>\n",
              "      <td id=\"T_f5a3e_row1_col2\" class=\"data row1 col2\" >3.800000</td>\n",
              "      <td id=\"T_f5a3e_row1_col3\" class=\"data row1 col3\" >270</td>\n",
              "      <td id=\"T_f5a3e_row1_col4\" class=\"data row1 col4\" >0.350000</td>\n",
              "    </tr>\n",
              "    <tr>\n",
              "      <th id=\"T_f5a3e_level0_row2\" class=\"row_heading level0 row2\" >p3</th>\n",
              "      <td id=\"T_f5a3e_row2_col0\" class=\"data row2 col0\" >60</td>\n",
              "      <td id=\"T_f5a3e_row2_col1\" class=\"data row2 col1\" >700</td>\n",
              "      <td id=\"T_f5a3e_row2_col2\" class=\"data row2 col2\" >4.000000</td>\n",
              "      <td id=\"T_f5a3e_row2_col3\" class=\"data row2 col3\" >300</td>\n",
              "      <td id=\"T_f5a3e_row2_col4\" class=\"data row2 col4\" >0.400000</td>\n",
              "    </tr>\n",
              "  </tbody>\n",
              "</table>\n"
            ]
          },
          "metadata": {}
        }
      ]
    },
    {
      "cell_type": "markdown",
      "source": [
        "# Define the Critical Attributes Function J_U_veh\n",
        "\n",
        "This function calculates the critical attributes (IE, RM, FE, AC) based on the design variables.\n",
        "\n",
        "We get an output between 0-1, since they are normalised\n",
        "\n",
        "***NOTE: the values for the design variables are placeholders, need to change based on data or expert opinions***\n",
        "\n",
        "- IE: prioritises interior dimensions (ID), with a small influence from battery capacity (BC)\n",
        "  . A high value indicates very good accessibility\n",
        "\n",
        "- RM: depends on roominess (ID) but gives more weight to battery capacity (BC)\n",
        "  - A high value indicates that it provides high sense of roomines\n",
        "\n",
        "- FE: reflects battery efficiency (BC), reduced by platform weight (PW) and drag (CD)\n",
        "  - A high value indicates excellent efficiency for the given design variables\n",
        "\n",
        "- AC: measures acceleration, driven by motor power (MP) and slightly offset by weight (PW)\n",
        "  - A high value indicates strong acceleration capabilities"
      ],
      "metadata": {
        "id": "Xo2Owp1y4cKQ"
      }
    },
    {
      "cell_type": "code",
      "source": [
        "# Define Critical Attributes Function\n",
        "def critical_attributes(x):\n",
        "    \"\"\"\n",
        "    Calculate critical attributes based on design variables.\n",
        "\n",
        "    Parameters:\n",
        "        x: List of design variables [BC, PM, IO, MP, CD].\n",
        "    Returns:\n",
        "        List of calculated critical attributes [RM, IE, FE, AC].\n",
        "    \"\"\"\n",
        "    BC, PM, IO, MP, CD = x  # Unpack design variables\n",
        "\n",
        "    # Critical Attributes Equations\n",
        "    RM = (0.7 * IO + 0.3 * BC) / (0.7 * 4.0 + 0.3 * 60)\n",
        "    IE = (0.6 * IO + 0.2 * BC - 0.1 * PM) / (0.6 * 4.0 + 0.2 * 60 - 0.1 * 700)\n",
        "    FE = (0.8 * BC - 0.3 * PM - 0.2 * CD) / (0.8 * 60 - 0.3 * 700 - 0.2 * 0.4)\n",
        "    AC = (0.7 * MP - 0.2 * PM) / (0.7 * 300 - 0.2 * 700)\n",
        "\n",
        "    # Ensure values are within range [0, 1]\n",
        "    RM = max(0, min(RM, 1))\n",
        "    IE = max(0, min(IE, 1))\n",
        "    FE = max(0, min(FE, 1))\n",
        "    AC = max(0, min(AC, 1))\n",
        "\n",
        "    # Debugging\n",
        "    print(f\"\\033[38;5;33mDesign Variables:\\033[0m {x}\")\n",
        "    print(f\"\\033[38;5;33mCalculated Attributes:\\033[0m RM: {RM}, IE: {IE}, FE: {FE}, AC: {AC}\")\n",
        "\n",
        "    return [RM, IE, FE, AC]\n",
        "\n",
        "# Define vehicle variants\n",
        "vehicle_variants = {\n",
        "    \"p1\": [50, 600, 3.5, 250, 0.3],  # Compact SUV\n",
        "    \"p2\": [55, 650, 3.8, 270, 0.35],  # Midsize SUV\n",
        "    \"p3\": [60, 700, 4.0, 300, 0.4],   # Full-size SUV\n",
        "}\n",
        "\n",
        "# Compute attributes for each vehicle variant\n",
        "critical_attributes_results = {key: critical_attributes(value) for key, value in vehicle_variants.items()}\n",
        "\n",
        "# Convert results to DataFrame\n",
        "df_critical_attributes = pd.DataFrame.from_dict(critical_attributes_results, orient=\"index\",\n",
        "                                                columns=[\"RM (Ride & Handling)\", \"IE (Interior Ergonomics)\",\n",
        "                                                         \"FE (Fuel Economy)\", \"AC (Acceleration)\"])\n",
        "\n",
        "# Function to display styled DataFrame\n",
        "def display_styled_dataframe(df, title):\n",
        "    \"\"\"\n",
        "    Display a formatted DataFrame with improved readability.\n",
        "\n",
        "    Parameters:\n",
        "    df (pd.DataFrame): The DataFrame to be displayed.\n",
        "    title (str): Title of the table.\n",
        "    \"\"\"\n",
        "    styled_df = df.style.set_table_styles([\n",
        "        {'selector': 'th', 'props': [\n",
        "            ('font-family', 'DM Sans'),\n",
        "            ('font-size', '15px'),\n",
        "            ('text-align', 'center'),\n",
        "            ('background-color', '#4990F3'),\n",
        "            ('color', 'white'),\n",
        "            ('padding', '10px')\n",
        "        ]},\n",
        "        {'selector': 'td', 'props': [\n",
        "            ('font-family', 'DM Sans'),\n",
        "            ('font-size', '13px'),\n",
        "            ('text-align', 'center'),\n",
        "            ('background-color', '#9FADF2'),\n",
        "            ('color', 'white'),\n",
        "            ('padding', '8px')\n",
        "        ]}\n",
        "    ]).set_properties(**{\n",
        "        'border': '1px solid black',\n",
        "        'padding': '8px'\n",
        "    })\n",
        "\n",
        "    display(HTML(f\"<h3 style='color: #4990F3; font-family: DM Sans;'>{title}</h3>\"))\n",
        "    display(styled_df)\n",
        "\n",
        "# Display styled critical attributes table\n",
        "display_styled_dataframe(df_critical_attributes, \"Calculated Critical Attributes for Vehicle Variants\")\n"
      ],
      "metadata": {
        "id": "tQblB4_p4b64",
        "colab": {
          "base_uri": "https://localhost:8080/",
          "height": 317
        },
        "outputId": "7f383581-13b2-4f88-ad56-85689a75d2d9",
        "collapsed": true
      },
      "execution_count": null,
      "outputs": [
        {
          "output_type": "stream",
          "name": "stdout",
          "text": [
            "\u001b[38;5;33mDesign Variables:\u001b[0m [50, 600, 3.5, 250, 0.3]\n",
            "\u001b[38;5;33mCalculated Attributes:\u001b[0m RM: 0.8389423076923076, IE: 0.8615107913669064, FE: 0.8641411648568608, AC: 0.7857142857142857\n",
            "\u001b[38;5;33mDesign Variables:\u001b[0m [55, 650, 3.8, 270, 0.35]\n",
            "\u001b[38;5;33mCalculated Attributes:\u001b[0m RM: 0.9211538461538461, IE: 0.9302158273381295, FE: 0.9320705824284303, AC: 0.8428571428571429\n",
            "\u001b[38;5;33mDesign Variables:\u001b[0m [60, 700, 4.0, 300, 0.4]\n",
            "\u001b[38;5;33mCalculated Attributes:\u001b[0m RM: 1.0, IE: 1.0, FE: 1.0, AC: 1.0\n"
          ]
        },
        {
          "output_type": "display_data",
          "data": {
            "text/plain": [
              "<IPython.core.display.HTML object>"
            ],
            "text/html": [
              "<h3 style='color: #4990F3; font-family: DM Sans;'>Calculated Critical Attributes for Vehicle Variants</h3>"
            ]
          },
          "metadata": {}
        },
        {
          "output_type": "display_data",
          "data": {
            "text/plain": [
              "<pandas.io.formats.style.Styler at 0x7a28207382d0>"
            ],
            "text/html": [
              "<style type=\"text/css\">\n",
              "#T_40702 th {\n",
              "  font-family: DM Sans;\n",
              "  font-size: 15px;\n",
              "  text-align: center;\n",
              "  background-color: #4990F3;\n",
              "  color: white;\n",
              "  padding: 10px;\n",
              "}\n",
              "#T_40702 td {\n",
              "  font-family: DM Sans;\n",
              "  font-size: 13px;\n",
              "  text-align: center;\n",
              "  background-color: #9FADF2;\n",
              "  color: white;\n",
              "  padding: 8px;\n",
              "}\n",
              "#T_40702_row0_col0, #T_40702_row0_col1, #T_40702_row0_col2, #T_40702_row0_col3, #T_40702_row1_col0, #T_40702_row1_col1, #T_40702_row1_col2, #T_40702_row1_col3, #T_40702_row2_col0, #T_40702_row2_col1, #T_40702_row2_col2, #T_40702_row2_col3 {\n",
              "  border: 1px solid black;\n",
              "  padding: 8px;\n",
              "}\n",
              "</style>\n",
              "<table id=\"T_40702\" class=\"dataframe\">\n",
              "  <thead>\n",
              "    <tr>\n",
              "      <th class=\"blank level0\" >&nbsp;</th>\n",
              "      <th id=\"T_40702_level0_col0\" class=\"col_heading level0 col0\" >RM (Ride & Handling)</th>\n",
              "      <th id=\"T_40702_level0_col1\" class=\"col_heading level0 col1\" >IE (Interior Ergonomics)</th>\n",
              "      <th id=\"T_40702_level0_col2\" class=\"col_heading level0 col2\" >FE (Fuel Economy)</th>\n",
              "      <th id=\"T_40702_level0_col3\" class=\"col_heading level0 col3\" >AC (Acceleration)</th>\n",
              "    </tr>\n",
              "  </thead>\n",
              "  <tbody>\n",
              "    <tr>\n",
              "      <th id=\"T_40702_level0_row0\" class=\"row_heading level0 row0\" >p1</th>\n",
              "      <td id=\"T_40702_row0_col0\" class=\"data row0 col0\" >0.838942</td>\n",
              "      <td id=\"T_40702_row0_col1\" class=\"data row0 col1\" >0.861511</td>\n",
              "      <td id=\"T_40702_row0_col2\" class=\"data row0 col2\" >0.864141</td>\n",
              "      <td id=\"T_40702_row0_col3\" class=\"data row0 col3\" >0.785714</td>\n",
              "    </tr>\n",
              "    <tr>\n",
              "      <th id=\"T_40702_level0_row1\" class=\"row_heading level0 row1\" >p2</th>\n",
              "      <td id=\"T_40702_row1_col0\" class=\"data row1 col0\" >0.921154</td>\n",
              "      <td id=\"T_40702_row1_col1\" class=\"data row1 col1\" >0.930216</td>\n",
              "      <td id=\"T_40702_row1_col2\" class=\"data row1 col2\" >0.932071</td>\n",
              "      <td id=\"T_40702_row1_col3\" class=\"data row1 col3\" >0.842857</td>\n",
              "    </tr>\n",
              "    <tr>\n",
              "      <th id=\"T_40702_level0_row2\" class=\"row_heading level0 row2\" >p3</th>\n",
              "      <td id=\"T_40702_row2_col0\" class=\"data row2 col0\" >1.000000</td>\n",
              "      <td id=\"T_40702_row2_col1\" class=\"data row2 col1\" >1.000000</td>\n",
              "      <td id=\"T_40702_row2_col2\" class=\"data row2 col2\" >1.000000</td>\n",
              "      <td id=\"T_40702_row2_col3\" class=\"data row2 col3\" >1.000000</td>\n",
              "    </tr>\n",
              "  </tbody>\n",
              "</table>\n"
            ]
          },
          "metadata": {}
        }
      ]
    },
    {
      "cell_type": "markdown",
      "source": [
        "# Define the Market Share Function\n",
        "\n",
        "Market share depends on the critical attributes and price.\n",
        "\n",
        "The market share function aims to quantify how much of the customer market will choose a specific vehicle variant, based on its critical attributes and price.\n",
        "\n",
        "- Market share increases with better attributes but decreases with higher price.\n",
        "\n",
        "It is influenced by:\n",
        "\n",
        "- Base market share = 0.3: represents the default starting market share before considering attributes or price (ASSUMPTION)\n",
        "\n",
        "- Attribute Sensitivity = 0.05 * sum(attributes): this measures how strongly customer-preferred attributes (RM, IE, FE, AC) contribute to market increasing market share\n",
        "  - The 0.05 is a weighting factor that controls how much the sum of attributes influence market share\n",
        "  - If attributes are all at their maximum (1.0 each), then attribute_sensitivity would contribute:\n",
        "      0.05×(1+1+1+1)=0.2\n",
        "  This means an ideal vehicle would see a maximum increase of 20% in market share from attributes.\n",
        "\n",
        "- Price sensitivity = 0.0001 * price: determines how much a higher price reduces market share\n",
        "  - For an expensive vehicle (price = 100,000):\n",
        "      0.0001×100,000=10\n",
        "    → This is a huge penalty, driving market share to zero.\n",
        "  - For a moderately priced vehicle (price = 40,000):\n",
        "      0.0001×40,000=4.0\n",
        "    → A substantial but not absolute reduction in market share.\n",
        "\n",
        "\n",
        "- ***0.12 and 0.000007 are sensitivities but they are currently placeholders***\n",
        "\n",
        "\n"
      ],
      "metadata": {
        "id": "ytYm8nHm1ZoD"
      }
    },
    {
      "cell_type": "code",
      "source": [
        "# Define market share function\n",
        "def market_share(attributes, price):\n",
        "    \"\"\"\n",
        "    Calculate market share for a product variant.\n",
        "\n",
        "    Parameters:\n",
        "        attributes: List of critical attributes [RM, IE, FE, AC].\n",
        "        price: Price of the product variant.\n",
        "\n",
        "    Returns:\n",
        "        Market share (float).\n",
        "    \"\"\"\n",
        "    base_share = 0.2  # Default 20% starting market share\n",
        "    attribute_sensitivity = 0.12 * sum(attributes)\n",
        "    price_sensitivity = 0.000007 * price\n",
        "\n",
        "    # Calculate final market share\n",
        "    ms = max(0, min(1, base_share + attribute_sensitivity - price_sensitivity))\n",
        "\n",
        "    return ms\n",
        "\n",
        "# Compute market share for each variant\n",
        "attributes_p1 = critical_attributes(vehicle_variants[\"p1\"])\n",
        "ms_p1 = market_share(attributes_p1, prices[0])\n",
        "\n",
        "attributes_p2 = critical_attributes(vehicle_variants[\"p2\"])\n",
        "ms_p2 = market_share(attributes_p2, prices[1])\n",
        "\n",
        "attributes_p3 = critical_attributes(vehicle_variants[\"p3\"])\n",
        "ms_p3 = market_share(attributes_p3, prices[2])\n",
        "\n",
        "# Create a table using Pandas DataFrame\n",
        "market_share_data = {\n",
        "    \"Vehicle Variant\": [\"Compact SUV (p1)\", \"Midsize SUV (p2)\", \"Full-size SUV (p3)\"],\n",
        "    \"Market Share (%)\": [ms_p1 * 100, ms_p2 * 100, ms_p3 * 100]\n",
        "}\n",
        "\n",
        "df_market_share = pd.DataFrame(market_share_data)\n",
        "\n",
        "# Display the table in Google Colab\n",
        "from IPython.display import display, HTML\n",
        "\n",
        "def display_styled_dataframe(df, title):\n",
        "    styled_df = df.style.set_table_styles(\n",
        "        [{'selector': 'th', 'props': [('font-size', '14px'), ('text-align', 'center'),\n",
        "                                      ('background-color', '#4990F3'), ('color', 'white')]},\n",
        "         {'selector': 'td', 'props': [('font-size', '13px'), ('font-family', 'DM Sans'), ('text-align', 'center'),\n",
        "                                      ('background-color', '#9FADF2'), ('color', 'white')]}]\n",
        "    ).set_properties(**{'border': '1px solid black', 'padding': '8px'})\n",
        "\n",
        "    display(HTML(f\"<h3 style='color: #4990F3; font-family: DM Sans;'>{title}</h3>\"))\n",
        "    display(styled_df)\n",
        "\n",
        "display_styled_dataframe(df_market_share, \"Market Share Calculation for Vehicle Variants\")\n"
      ],
      "metadata": {
        "colab": {
          "base_uri": "https://localhost:8080/",
          "height": 292
        },
        "id": "afUHEfRM43AM",
        "outputId": "08f56577-20f0-4798-e83c-69c54b9a6100"
      },
      "execution_count": null,
      "outputs": [
        {
          "output_type": "stream",
          "name": "stdout",
          "text": [
            "\u001b[38;5;33mDesign Variables:\u001b[0m [50, 600, 3.5, 250, 0.3]\n",
            "\u001b[38;5;33mCalculated Attributes:\u001b[0m RM: 0.8389423076923076, IE: 0.8615107913669064, FE: 0.8641411648568608, AC: 0.7857142857142857\n",
            "\u001b[38;5;33mDesign Variables:\u001b[0m [55, 650, 3.8, 270, 0.35]\n",
            "\u001b[38;5;33mCalculated Attributes:\u001b[0m RM: 0.9211538461538461, IE: 0.9302158273381295, FE: 0.9320705824284303, AC: 0.8428571428571429\n",
            "\u001b[38;5;33mDesign Variables:\u001b[0m [60, 700, 4.0, 300, 0.4]\n",
            "\u001b[38;5;33mCalculated Attributes:\u001b[0m RM: 1.0, IE: 1.0, FE: 1.0, AC: 1.0\n"
          ]
        },
        {
          "output_type": "display_data",
          "data": {
            "text/plain": [
              "<IPython.core.display.HTML object>"
            ],
            "text/html": [
              "<h3 style='color: #4990F3; font-family: DM Sans;'>Market Share Calculation for Vehicle Variants</h3>"
            ]
          },
          "metadata": {}
        },
        {
          "output_type": "display_data",
          "data": {
            "text/plain": [
              "<pandas.io.formats.style.Styler at 0x7a27ce5d5bd0>"
            ],
            "text/html": [
              "<style type=\"text/css\">\n",
              "#T_2ede5 th {\n",
              "  font-size: 14px;\n",
              "  text-align: center;\n",
              "  background-color: #4990F3;\n",
              "  color: white;\n",
              "}\n",
              "#T_2ede5 td {\n",
              "  font-size: 13px;\n",
              "  font-family: DM Sans;\n",
              "  text-align: center;\n",
              "  background-color: #9FADF2;\n",
              "  color: white;\n",
              "}\n",
              "#T_2ede5_row0_col0, #T_2ede5_row0_col1, #T_2ede5_row1_col0, #T_2ede5_row1_col1, #T_2ede5_row2_col0, #T_2ede5_row2_col1 {\n",
              "  border: 1px solid black;\n",
              "  padding: 8px;\n",
              "}\n",
              "</style>\n",
              "<table id=\"T_2ede5\" class=\"dataframe\">\n",
              "  <thead>\n",
              "    <tr>\n",
              "      <th class=\"blank level0\" >&nbsp;</th>\n",
              "      <th id=\"T_2ede5_level0_col0\" class=\"col_heading level0 col0\" >Vehicle Variant</th>\n",
              "      <th id=\"T_2ede5_level0_col1\" class=\"col_heading level0 col1\" >Market Share (%)</th>\n",
              "    </tr>\n",
              "  </thead>\n",
              "  <tbody>\n",
              "    <tr>\n",
              "      <th id=\"T_2ede5_level0_row0\" class=\"row_heading level0 row0\" >0</th>\n",
              "      <td id=\"T_2ede5_row0_col0\" class=\"data row0 col0\" >Compact SUV (p1)</td>\n",
              "      <td id=\"T_2ede5_row0_col1\" class=\"data row0 col1\" >25.273703</td>\n",
              "    </tr>\n",
              "    <tr>\n",
              "      <th id=\"T_2ede5_level0_row1\" class=\"row_heading level0 row1\" >1</th>\n",
              "      <td id=\"T_2ede5_row1_col0\" class=\"data row1 col0\" >Midsize SUV (p2)</td>\n",
              "      <td id=\"T_2ede5_row1_col1\" class=\"data row1 col1\" >20.395569</td>\n",
              "    </tr>\n",
              "    <tr>\n",
              "      <th id=\"T_2ede5_level0_row2\" class=\"row_heading level0 row2\" >2</th>\n",
              "      <td id=\"T_2ede5_row2_col0\" class=\"data row2 col0\" >Full-size SUV (p3)</td>\n",
              "      <td id=\"T_2ede5_row2_col1\" class=\"data row2 col1\" >12.000000</td>\n",
              "    </tr>\n",
              "  </tbody>\n",
              "</table>\n"
            ]
          },
          "metadata": {}
        }
      ]
    },
    {
      "cell_type": "markdown",
      "source": [
        "# Define Revenue Function\n",
        "\n",
        "Revenue depends on market share, price, and demand.\n",
        "\n",
        "- Returns negative revenue because optimisation minimises by default\n",
        "- demand x price x ms: calculates the total revenue for the variant\n",
        "\n",
        "***NOTE: here we assume the demad***"
      ],
      "metadata": {
        "id": "xZWTTvlFMDQh"
      }
    },
    {
      "cell_type": "code",
      "source": [
        "import pandas as pd\n",
        "from IPython.display import display, HTML\n",
        "\n",
        "# Define revenue function\n",
        "def revenue(x, price, demand):\n",
        "    \"\"\"\n",
        "    Calculate revenue for a product variant.\n",
        "\n",
        "    Parameters:\n",
        "        x: List of design variables [BC, PM, IO, MP, CD].\n",
        "        price: Price of the product variant.\n",
        "        demand: Demand for the product variant.\n",
        "\n",
        "    Returns:\n",
        "        Revenue value.\n",
        "    \"\"\"\n",
        "    attributes = critical_attributes(x)  # Compute attributes\n",
        "    ms = market_share(attributes, price)  # Compute market share\n",
        "    revenue_value = demand * price * ms\n",
        "\n",
        "    return revenue_value\n",
        "\n",
        "# Compute revenue for each variant\n",
        "revenue_p1 = revenue(vehicle_variants[\"p1\"], prices[0], demands[0])\n",
        "revenue_p2 = revenue(vehicle_variants[\"p2\"], prices[1], demands[1])\n",
        "revenue_p3 = revenue(vehicle_variants[\"p3\"], prices[2], demands[2])\n",
        "\n",
        "# Create a table using Pandas DataFrame\n",
        "revenue_data = {\n",
        "    \"Vehicle Variant\": [\"Compact SUV (p1)\", \"Midsize SUV (p2)\", \"Full-size SUV (p3)\"],\n",
        "    \"Market Share (%)\": [round(market_share(critical_attributes(vehicle_variants[\"p1\"]), prices[0]) * 100, 2),\n",
        "                         round(market_share(critical_attributes(vehicle_variants[\"p2\"]), prices[1]) * 100, 2),\n",
        "                         round(market_share(critical_attributes(vehicle_variants[\"p3\"]), prices[2]) * 100, 2)],\n",
        "    \"Demand (Units)\": demands,\n",
        "    \"Price ($)\": [\"${:,.2f}\".format(p) for p in prices],  # Format price with thousands separator\n",
        "    \"Revenue ($)\": [\"${:,.2f}\".format(r) for r in [revenue_p1, revenue_p2, revenue_p3]]  # Format revenue\n",
        "}\n",
        "\n",
        "df_revenue = pd.DataFrame(revenue_data)\n",
        "\n",
        "# Function to display a formatted table in Google Colab\n",
        "def display_styled_dataframe(df, title):\n",
        "    styled_df = df.style.set_table_styles(\n",
        "        [{'selector': 'th', 'props': [('font-size', '14px'), ('text-align', 'center'),\n",
        "                                      ('background-color', '#4990F3'), ('color', 'white'), ('font-family', 'DM Sans')]},\n",
        "         {'selector': 'td', 'props': [('font-size', '13px'), ('text-align', 'center'),\n",
        "                                      ('background-color', '#9FADF2'), ('color', 'white'), ('font-family', 'DM Sans')]}]\n",
        "    ).set_properties(**{'border': '1px solid black', 'padding': '8px'})\n",
        "\n",
        "    display(HTML(f\"<h3 style='color: #4990F3; font-family: DM Sans;'>{title}</h3>\"))\n",
        "    display(styled_df)\n",
        "\n",
        "# Display revenue table\n",
        "display_styled_dataframe(df_revenue, \"Revenue Calculation for Vehicle Variants\")\n"
      ],
      "metadata": {
        "id": "3AQ1-t2sMCvK",
        "colab": {
          "base_uri": "https://localhost:8080/",
          "height": 397
        },
        "outputId": "3fb22afc-bddb-43ac-89f8-c776631dbc00"
      },
      "execution_count": null,
      "outputs": [
        {
          "output_type": "stream",
          "name": "stdout",
          "text": [
            "\u001b[38;5;33mDesign Variables:\u001b[0m [50, 600, 3.5, 250, 0.3]\n",
            "\u001b[38;5;33mCalculated Attributes:\u001b[0m RM: 0.8389423076923076, IE: 0.8615107913669064, FE: 0.8641411648568608, AC: 0.7857142857142857\n",
            "\u001b[38;5;33mDesign Variables:\u001b[0m [55, 650, 3.8, 270, 0.35]\n",
            "\u001b[38;5;33mCalculated Attributes:\u001b[0m RM: 0.9211538461538461, IE: 0.9302158273381295, FE: 0.9320705824284303, AC: 0.8428571428571429\n",
            "\u001b[38;5;33mDesign Variables:\u001b[0m [60, 700, 4.0, 300, 0.4]\n",
            "\u001b[38;5;33mCalculated Attributes:\u001b[0m RM: 1.0, IE: 1.0, FE: 1.0, AC: 1.0\n",
            "\u001b[38;5;33mDesign Variables:\u001b[0m [50, 600, 3.5, 250, 0.3]\n",
            "\u001b[38;5;33mCalculated Attributes:\u001b[0m RM: 0.8389423076923076, IE: 0.8615107913669064, FE: 0.8641411648568608, AC: 0.7857142857142857\n",
            "\u001b[38;5;33mDesign Variables:\u001b[0m [55, 650, 3.8, 270, 0.35]\n",
            "\u001b[38;5;33mCalculated Attributes:\u001b[0m RM: 0.9211538461538461, IE: 0.9302158273381295, FE: 0.9320705824284303, AC: 0.8428571428571429\n",
            "\u001b[38;5;33mDesign Variables:\u001b[0m [60, 700, 4.0, 300, 0.4]\n",
            "\u001b[38;5;33mCalculated Attributes:\u001b[0m RM: 1.0, IE: 1.0, FE: 1.0, AC: 1.0\n"
          ]
        },
        {
          "output_type": "display_data",
          "data": {
            "text/plain": [
              "<IPython.core.display.HTML object>"
            ],
            "text/html": [
              "<h3 style='color: #4990F3; font-family: DM Sans;'>Revenue Calculation for Vehicle Variants</h3>"
            ]
          },
          "metadata": {}
        },
        {
          "output_type": "display_data",
          "data": {
            "text/plain": [
              "<pandas.io.formats.style.Styler at 0x7a27ce5d5bd0>"
            ],
            "text/html": [
              "<style type=\"text/css\">\n",
              "#T_76c77 th {\n",
              "  font-size: 14px;\n",
              "  text-align: center;\n",
              "  background-color: #4990F3;\n",
              "  color: white;\n",
              "  font-family: DM Sans;\n",
              "}\n",
              "#T_76c77 td {\n",
              "  font-size: 13px;\n",
              "  text-align: center;\n",
              "  background-color: #9FADF2;\n",
              "  color: white;\n",
              "  font-family: DM Sans;\n",
              "}\n",
              "#T_76c77_row0_col0, #T_76c77_row0_col1, #T_76c77_row0_col2, #T_76c77_row0_col3, #T_76c77_row0_col4, #T_76c77_row1_col0, #T_76c77_row1_col1, #T_76c77_row1_col2, #T_76c77_row1_col3, #T_76c77_row1_col4, #T_76c77_row2_col0, #T_76c77_row2_col1, #T_76c77_row2_col2, #T_76c77_row2_col3, #T_76c77_row2_col4 {\n",
              "  border: 1px solid black;\n",
              "  padding: 8px;\n",
              "}\n",
              "</style>\n",
              "<table id=\"T_76c77\" class=\"dataframe\">\n",
              "  <thead>\n",
              "    <tr>\n",
              "      <th class=\"blank level0\" >&nbsp;</th>\n",
              "      <th id=\"T_76c77_level0_col0\" class=\"col_heading level0 col0\" >Vehicle Variant</th>\n",
              "      <th id=\"T_76c77_level0_col1\" class=\"col_heading level0 col1\" >Market Share (%)</th>\n",
              "      <th id=\"T_76c77_level0_col2\" class=\"col_heading level0 col2\" >Demand (Units)</th>\n",
              "      <th id=\"T_76c77_level0_col3\" class=\"col_heading level0 col3\" >Price ($)</th>\n",
              "      <th id=\"T_76c77_level0_col4\" class=\"col_heading level0 col4\" >Revenue ($)</th>\n",
              "    </tr>\n",
              "  </thead>\n",
              "  <tbody>\n",
              "    <tr>\n",
              "      <th id=\"T_76c77_level0_row0\" class=\"row_heading level0 row0\" >0</th>\n",
              "      <td id=\"T_76c77_row0_col0\" class=\"data row0 col0\" >Compact SUV (p1)</td>\n",
              "      <td id=\"T_76c77_row0_col1\" class=\"data row0 col1\" >25.270000</td>\n",
              "      <td id=\"T_76c77_row0_col2\" class=\"data row0 col2\" >140000</td>\n",
              "      <td id=\"T_76c77_row0_col3\" class=\"data row0 col3\" >$49,900.00</td>\n",
              "      <td id=\"T_76c77_row0_col4\" class=\"data row0 col4\" >$1,765,620,863.33</td>\n",
              "    </tr>\n",
              "    <tr>\n",
              "      <th id=\"T_76c77_level0_row1\" class=\"row_heading level0 row1\" >1</th>\n",
              "      <td id=\"T_76c77_row1_col0\" class=\"data row1 col0\" >Midsize SUV (p2)</td>\n",
              "      <td id=\"T_76c77_row1_col1\" class=\"data row1 col1\" >20.400000</td>\n",
              "      <td id=\"T_76c77_row1_col2\" class=\"data row1 col2\" >100000</td>\n",
              "      <td id=\"T_76c77_row1_col3\" class=\"data row1 col3\" >$61,600.00</td>\n",
              "      <td id=\"T_76c77_row1_col4\" class=\"data row1 col4\" >$1,256,367,037.18</td>\n",
              "    </tr>\n",
              "    <tr>\n",
              "      <th id=\"T_76c77_level0_row2\" class=\"row_heading level0 row2\" >2</th>\n",
              "      <td id=\"T_76c77_row2_col0\" class=\"data row2 col0\" >Full-size SUV (p3)</td>\n",
              "      <td id=\"T_76c77_row2_col1\" class=\"data row2 col1\" >12.000000</td>\n",
              "      <td id=\"T_76c77_row2_col2\" class=\"data row2 col2\" >80000</td>\n",
              "      <td id=\"T_76c77_row2_col3\" class=\"data row2 col3\" >$80,000.00</td>\n",
              "      <td id=\"T_76c77_row2_col4\" class=\"data row2 col4\" >$768,000,000.00</td>\n",
              "    </tr>\n",
              "  </tbody>\n",
              "</table>\n"
            ]
          },
          "metadata": {}
        }
      ]
    },
    {
      "cell_type": "markdown",
      "source": [
        "# Normalise and Generate Tables\n",
        "\n",
        "Normalization scales all values in a dataset to a range of 0 to 1. It ensures that all variables are comparable, regardless of their original scale. For example, battery capacity might be measured in kilowatt-hours (kWh), while weight is in kilograms, and aerodynamic coefficient is unitless.\n",
        "\n",
        "By normalizing:\n",
        "\n",
        "- We ensure that all features have the same influence on the results.\n",
        "- Avoid biases in optimization and analysis caused by large numbers dominating smaller ones.\n",
        "\n"
      ],
      "metadata": {
        "id": "eDWaWjvhTu0z"
      }
    },
    {
      "cell_type": "code",
      "source": [
        "# Calculate maximum values for each design variable across all variants\n",
        "max_values = {\n",
        "    \"BC\": max(v[0] for v in vehicle_variants.values()),  # Max Battery Capacity\n",
        "    \"PW\": max(v[1] for v in vehicle_variants.values()),  # Max Platform Weight\n",
        "    \"MP\": max(v[2] for v in vehicle_variants.values()),  # Max Motor Power\n",
        "    \"ID\": max(v[3] for v in vehicle_variants.values()),  # Max Interior Dimensions\n",
        "    \"CD\": max(v[4] for v in vehicle_variants.values())   # Max Aerodynamic Coefficient\n",
        "}\n",
        "\n",
        "# Function to normalize design variables\n",
        "def normalize_design_variables(variant, max_values):\n",
        "    return [variant[0] / max_values[\"BC\"],\n",
        "            variant[1] / max_values[\"PW\"],\n",
        "            variant[2] / max_values[\"MP\"],\n",
        "            variant[3] / max_values[\"ID\"],\n",
        "            variant[4] / max_values[\"CD\"]]\n",
        "\n",
        "# Normalize all design variables\n",
        "normalized_variants = {key: normalize_design_variables(value, max_values) for key, value in vehicle_variants.items()}\n",
        "\n",
        "# Convert to DataFrame for better readability\n",
        "df_normalized_design = pd.DataFrame.from_dict(normalized_variants, orient=\"index\",\n",
        "                                              columns=[\"BC (Battery Capacity)\", \"PW (Platform Weight)\",\n",
        "                                                       \"MP (Motor Power)\", \"ID (Interior Dimensions)\",\n",
        "                                                       \"CD (Aerodynamic Coefficient)\"])\n",
        "\n",
        "# Display formatted table for Normalized Design Variables\n",
        "display_styled_dataframe(df_normalized_design, \"Normalized Design Variables for Vehicle Variants\")\n"
      ],
      "metadata": {
        "colab": {
          "base_uri": "https://localhost:8080/",
          "height": 188
        },
        "id": "TldURcUaLfvk",
        "outputId": "1e3dbc8e-13d7-40c5-992e-13408e2bd66c"
      },
      "execution_count": null,
      "outputs": [
        {
          "output_type": "display_data",
          "data": {
            "text/plain": [
              "<IPython.core.display.HTML object>"
            ],
            "text/html": [
              "<h3 style='color: #4990F3; font-family: DM Sans;'>Normalized Design Variables for Vehicle Variants</h3>"
            ]
          },
          "metadata": {}
        },
        {
          "output_type": "display_data",
          "data": {
            "text/plain": [
              "<pandas.io.formats.style.Styler at 0x7a28207dd6d0>"
            ],
            "text/html": [
              "<style type=\"text/css\">\n",
              "#T_e4073 th {\n",
              "  font-size: 14px;\n",
              "  text-align: center;\n",
              "  background-color: #4990F3;\n",
              "  color: white;\n",
              "  font-family: DM Sans;\n",
              "}\n",
              "#T_e4073 td {\n",
              "  font-size: 13px;\n",
              "  text-align: center;\n",
              "  background-color: #9FADF2;\n",
              "  color: white;\n",
              "  font-family: DM Sans;\n",
              "}\n",
              "#T_e4073_row0_col0, #T_e4073_row0_col1, #T_e4073_row0_col2, #T_e4073_row0_col3, #T_e4073_row0_col4, #T_e4073_row1_col0, #T_e4073_row1_col1, #T_e4073_row1_col2, #T_e4073_row1_col3, #T_e4073_row1_col4, #T_e4073_row2_col0, #T_e4073_row2_col1, #T_e4073_row2_col2, #T_e4073_row2_col3, #T_e4073_row2_col4 {\n",
              "  border: 1px solid black;\n",
              "  padding: 8px;\n",
              "}\n",
              "</style>\n",
              "<table id=\"T_e4073\" class=\"dataframe\">\n",
              "  <thead>\n",
              "    <tr>\n",
              "      <th class=\"blank level0\" >&nbsp;</th>\n",
              "      <th id=\"T_e4073_level0_col0\" class=\"col_heading level0 col0\" >BC (Battery Capacity)</th>\n",
              "      <th id=\"T_e4073_level0_col1\" class=\"col_heading level0 col1\" >PW (Platform Weight)</th>\n",
              "      <th id=\"T_e4073_level0_col2\" class=\"col_heading level0 col2\" >MP (Motor Power)</th>\n",
              "      <th id=\"T_e4073_level0_col3\" class=\"col_heading level0 col3\" >ID (Interior Dimensions)</th>\n",
              "      <th id=\"T_e4073_level0_col4\" class=\"col_heading level0 col4\" >CD (Aerodynamic Coefficient)</th>\n",
              "    </tr>\n",
              "  </thead>\n",
              "  <tbody>\n",
              "    <tr>\n",
              "      <th id=\"T_e4073_level0_row0\" class=\"row_heading level0 row0\" >p1</th>\n",
              "      <td id=\"T_e4073_row0_col0\" class=\"data row0 col0\" >0.833333</td>\n",
              "      <td id=\"T_e4073_row0_col1\" class=\"data row0 col1\" >0.857143</td>\n",
              "      <td id=\"T_e4073_row0_col2\" class=\"data row0 col2\" >0.875000</td>\n",
              "      <td id=\"T_e4073_row0_col3\" class=\"data row0 col3\" >0.833333</td>\n",
              "      <td id=\"T_e4073_row0_col4\" class=\"data row0 col4\" >0.750000</td>\n",
              "    </tr>\n",
              "    <tr>\n",
              "      <th id=\"T_e4073_level0_row1\" class=\"row_heading level0 row1\" >p2</th>\n",
              "      <td id=\"T_e4073_row1_col0\" class=\"data row1 col0\" >0.916667</td>\n",
              "      <td id=\"T_e4073_row1_col1\" class=\"data row1 col1\" >0.928571</td>\n",
              "      <td id=\"T_e4073_row1_col2\" class=\"data row1 col2\" >0.950000</td>\n",
              "      <td id=\"T_e4073_row1_col3\" class=\"data row1 col3\" >0.900000</td>\n",
              "      <td id=\"T_e4073_row1_col4\" class=\"data row1 col4\" >0.875000</td>\n",
              "    </tr>\n",
              "    <tr>\n",
              "      <th id=\"T_e4073_level0_row2\" class=\"row_heading level0 row2\" >p3</th>\n",
              "      <td id=\"T_e4073_row2_col0\" class=\"data row2 col0\" >1.000000</td>\n",
              "      <td id=\"T_e4073_row2_col1\" class=\"data row2 col1\" >1.000000</td>\n",
              "      <td id=\"T_e4073_row2_col2\" class=\"data row2 col2\" >1.000000</td>\n",
              "      <td id=\"T_e4073_row2_col3\" class=\"data row2 col3\" >1.000000</td>\n",
              "      <td id=\"T_e4073_row2_col4\" class=\"data row2 col4\" >1.000000</td>\n",
              "    </tr>\n",
              "  </tbody>\n",
              "</table>\n"
            ]
          },
          "metadata": {}
        }
      ]
    },
    {
      "cell_type": "code",
      "source": [
        "# Compute raw critical attributes for each variant\n",
        "raw_critical_attributes = {key: critical_attributes(value) for key, value in vehicle_variants.items()}\n",
        "\n",
        "# Convert to DataFrame for easier calculations\n",
        "df_raw_critical = pd.DataFrame.from_dict(raw_critical_attributes, orient=\"index\",\n",
        "                                         columns=[\"RM (Ride & Handling)\", \"IE (Interior Ergonomics)\",\n",
        "                                                  \"FE (Fuel Economy)\", \"AC (Acceleration)\"])\n",
        "\n",
        "# Calculate maximum values dynamically for normalization\n",
        "max_critical_values = df_raw_critical.max()\n",
        "\n",
        "# Normalize Critical Attributes by dividing by max values\n",
        "df_normalized_critical = df_raw_critical / max_critical_values\n",
        "\n",
        "# Display formatted table for Normalized Critical Attributes\n",
        "display_styled_dataframe(df_normalized_critical, \"Normalized Critical Attributes for Vehicle Variants\")\n"
      ],
      "metadata": {
        "colab": {
          "base_uri": "https://localhost:8080/",
          "height": 292
        },
        "id": "aeFkqq4bPYQv",
        "outputId": "9c501dcd-efa8-42f3-9911-ac6999e678b3"
      },
      "execution_count": null,
      "outputs": [
        {
          "output_type": "stream",
          "name": "stdout",
          "text": [
            "\u001b[38;5;33mDesign Variables:\u001b[0m [50, 600, 3.5, 250, 0.3]\n",
            "\u001b[38;5;33mCalculated Attributes:\u001b[0m RM: 0.8389423076923076, IE: 0.8615107913669064, FE: 0.8641411648568608, AC: 0.7857142857142857\n",
            "\u001b[38;5;33mDesign Variables:\u001b[0m [55, 650, 3.8, 270, 0.35]\n",
            "\u001b[38;5;33mCalculated Attributes:\u001b[0m RM: 0.9211538461538461, IE: 0.9302158273381295, FE: 0.9320705824284303, AC: 0.8428571428571429\n",
            "\u001b[38;5;33mDesign Variables:\u001b[0m [60, 700, 4.0, 300, 0.4]\n",
            "\u001b[38;5;33mCalculated Attributes:\u001b[0m RM: 1.0, IE: 1.0, FE: 1.0, AC: 1.0\n"
          ]
        },
        {
          "output_type": "display_data",
          "data": {
            "text/plain": [
              "<IPython.core.display.HTML object>"
            ],
            "text/html": [
              "<h3 style='color: #4990F3; font-family: DM Sans;'>Normalized Critical Attributes for Vehicle Variants</h3>"
            ]
          },
          "metadata": {}
        },
        {
          "output_type": "display_data",
          "data": {
            "text/plain": [
              "<pandas.io.formats.style.Styler at 0x7a28207dd310>"
            ],
            "text/html": [
              "<style type=\"text/css\">\n",
              "#T_e9954 th {\n",
              "  font-size: 14px;\n",
              "  text-align: center;\n",
              "  background-color: #4990F3;\n",
              "  color: white;\n",
              "  font-family: DM Sans;\n",
              "}\n",
              "#T_e9954 td {\n",
              "  font-size: 13px;\n",
              "  text-align: center;\n",
              "  background-color: #9FADF2;\n",
              "  color: white;\n",
              "  font-family: DM Sans;\n",
              "}\n",
              "#T_e9954_row0_col0, #T_e9954_row0_col1, #T_e9954_row0_col2, #T_e9954_row0_col3, #T_e9954_row1_col0, #T_e9954_row1_col1, #T_e9954_row1_col2, #T_e9954_row1_col3, #T_e9954_row2_col0, #T_e9954_row2_col1, #T_e9954_row2_col2, #T_e9954_row2_col3 {\n",
              "  border: 1px solid black;\n",
              "  padding: 8px;\n",
              "}\n",
              "</style>\n",
              "<table id=\"T_e9954\" class=\"dataframe\">\n",
              "  <thead>\n",
              "    <tr>\n",
              "      <th class=\"blank level0\" >&nbsp;</th>\n",
              "      <th id=\"T_e9954_level0_col0\" class=\"col_heading level0 col0\" >RM (Ride & Handling)</th>\n",
              "      <th id=\"T_e9954_level0_col1\" class=\"col_heading level0 col1\" >IE (Interior Ergonomics)</th>\n",
              "      <th id=\"T_e9954_level0_col2\" class=\"col_heading level0 col2\" >FE (Fuel Economy)</th>\n",
              "      <th id=\"T_e9954_level0_col3\" class=\"col_heading level0 col3\" >AC (Acceleration)</th>\n",
              "    </tr>\n",
              "  </thead>\n",
              "  <tbody>\n",
              "    <tr>\n",
              "      <th id=\"T_e9954_level0_row0\" class=\"row_heading level0 row0\" >p1</th>\n",
              "      <td id=\"T_e9954_row0_col0\" class=\"data row0 col0\" >0.838942</td>\n",
              "      <td id=\"T_e9954_row0_col1\" class=\"data row0 col1\" >0.861511</td>\n",
              "      <td id=\"T_e9954_row0_col2\" class=\"data row0 col2\" >0.864141</td>\n",
              "      <td id=\"T_e9954_row0_col3\" class=\"data row0 col3\" >0.785714</td>\n",
              "    </tr>\n",
              "    <tr>\n",
              "      <th id=\"T_e9954_level0_row1\" class=\"row_heading level0 row1\" >p2</th>\n",
              "      <td id=\"T_e9954_row1_col0\" class=\"data row1 col0\" >0.921154</td>\n",
              "      <td id=\"T_e9954_row1_col1\" class=\"data row1 col1\" >0.930216</td>\n",
              "      <td id=\"T_e9954_row1_col2\" class=\"data row1 col2\" >0.932071</td>\n",
              "      <td id=\"T_e9954_row1_col3\" class=\"data row1 col3\" >0.842857</td>\n",
              "    </tr>\n",
              "    <tr>\n",
              "      <th id=\"T_e9954_level0_row2\" class=\"row_heading level0 row2\" >p3</th>\n",
              "      <td id=\"T_e9954_row2_col0\" class=\"data row2 col0\" >1.000000</td>\n",
              "      <td id=\"T_e9954_row2_col1\" class=\"data row2 col1\" >1.000000</td>\n",
              "      <td id=\"T_e9954_row2_col2\" class=\"data row2 col2\" >1.000000</td>\n",
              "      <td id=\"T_e9954_row2_col3\" class=\"data row2 col3\" >1.000000</td>\n",
              "    </tr>\n",
              "  </tbody>\n",
              "</table>\n"
            ]
          },
          "metadata": {}
        }
      ]
    },
    {
      "cell_type": "markdown",
      "source": [],
      "metadata": {
        "id": "VdylSLsUZQLl"
      }
    },
    {
      "cell_type": "markdown",
      "source": [
        "# Perform Sensitivity Analysis\n",
        "\n",
        "Analyze how changes in design variables affect revenue for each variant.\n",
        "\n",
        "Sensitivity analysis function: this function evaluates the revenue change when design variables are perturbed by a small value (delta = 0.01)\n",
        "\n",
        "\n"
      ],
      "metadata": {
        "id": "GPtjsSy216cR"
      }
    },
    {
      "cell_type": "code",
      "source": [
        "import pandas as pd\n",
        "import matplotlib.pyplot as plt\n",
        "\n",
        "def sensitivity_analysis(x, price, demand, variable_names, perturbation=0.01):\n",
        "    \"\"\"\n",
        "    Perform sensitivity analysis on the revenue function by perturbing each design variable by ±1%.\n",
        "\n",
        "    Parameters:\n",
        "        x (list): List of design variables [BC, PM, IO, MP, CD].\n",
        "        price (float): Price of the product variant.\n",
        "        demand (int): Demand for the product variant.\n",
        "        variable_names (list): Names of the design variables.\n",
        "        perturbation (float): Percentage change for sensitivity analysis (default: ±1%).\n",
        "\n",
        "    Returns:\n",
        "        DataFrame: Sensitivity results with percentage change in revenue for each variable.\n",
        "    \"\"\"\n",
        "    # Convert x to a list if it's a tuple\n",
        "    x = list(x)\n",
        "\n",
        "    # Compute base revenue\n",
        "    base_revenue = revenue(x, price, demand)\n",
        "    sensitivity_results = []\n",
        "\n",
        "    for i in range(len(x)):\n",
        "        x_perturbed_up = x.copy()  # Ensure copies are independent\n",
        "        x_perturbed_down = x.copy()\n",
        "\n",
        "        # Increase and decrease the variable by perturbation percentage\n",
        "        x_perturbed_up[i] *= (1 + perturbation)\n",
        "        x_perturbed_down[i] *= (1 - perturbation)\n",
        "\n",
        "        # Compute new revenues\n",
        "        revenue_up = revenue(x_perturbed_up, price, demand)\n",
        "        revenue_down = revenue(x_perturbed_down, price, demand)\n",
        "\n",
        "        # Compute percentage change in revenue\n",
        "        sensitivity_up = (4revenue_up - base_revenue) / base_revenue * 100\n",
        "        sensitivity_down = (revenue_down - base_revenue) / base_revenue * 100\n",
        "\n",
        "        sensitivity_results.append([variable_names[i], round(sensitivity_down, 2), round(sensitivity_up, 2)])\n",
        "\n",
        "    # Convert results to DataFrame\n",
        "    df_sensitivity = pd.DataFrame(sensitivity_results, columns=[\"Variable\", \"-1%\", \"+1%\"])\n",
        "    return df_sensitivity\n",
        "\n",
        "# Define variable names for sensitivity analysis\n",
        "variable_names = [\"BC (Battery Capacity)\", \"PW (Platform Weight)\", \"MP (Motor Power)\",\n",
        "                  \"ID (Interior Dimensions)\", \"CD (Aerodynamic Coefficient)\"]\n",
        "\n",
        "# Perform Sensitivity Analysis for Compact SUV (p1)\n",
        "df_sensitivity_p1 = sensitivity_analysis(vehicle_variants[\"p1\"], prices[0], demands[0], variable_names)\n",
        "\n",
        "# Display formatted Sensitivity Analysis table\n",
        "def display_styled_dataframe(df, title):\n",
        "    styled_df = df.style.set_table_styles(\n",
        "        [{'selector': 'th', 'props': [('font-size', '14px'), ('text-align', 'center'),\n",
        "                                      ('background-color', '#4990F3'), ('color', 'white'), ('font-family', 'DM Sans')]},\n",
        "         {'selector': 'td', 'props': [('font-size', '13px'), ('text-align', 'center'),\n",
        "                                      ('background-color', '#9FADF2'), ('color', 'white'), ('font-family', 'DM Sans')]}]\n",
        "    ).set_properties(**{'border': '1px solid black', 'padding': '8px'})\n",
        "\n",
        "    display(HTML(f\"<h3 style='color: #4990F3; font-family: DM Sans;'>{title}</h3>\"))\n",
        "    display(styled_df)\n",
        "\n",
        "display_styled_dataframe(df_sensitivity_p1, \"Revenue Sensitivity Analysis for Compact SUV (p1)\")\n",
        "\n",
        "# Plot Sensitivity Analysis Results\n",
        "# Plot Sensitivity Analysis Results with Custom Formatting\n",
        "fig, ax = plt.subplots(figsize=(8, 6))\n",
        "\n",
        "# Use your colors for bars\n",
        "df_sensitivity_p1.set_index(\"Variable\").plot(kind=\"barh\", ax=ax, color=[\"#4990F3\", \"#9FADF2\"])\n",
        "\n",
        "# Set labels and title with DM Sans\n",
        "ax.set_xlabel(\"Total Revenue Change (%)\", fontsize=12, color=\"black\")\n",
        "ax.set_ylabel(\"Design Variables\", fontsize=12, color=\"black\")\n",
        "ax.set_title(\"Revenue Sensitivity Chart (p1)\", fontsize=14, color=\"black\")\n",
        "\n",
        "# Custom grid styling\n",
        "plt.grid(True, linestyle=\"--\", alpha=0.6, color=\"gray\")\n",
        "\n",
        "# Set ticks font\n",
        "plt.xticks(fontsize=11, color=\"black\")\n",
        "plt.yticks(fontsize=11, color=\"black\")\n",
        "\n",
        "# Show plot\n",
        "plt.show()"
      ],
      "metadata": {
        "colab": {
          "base_uri": "https://localhost:8080/",
          "height": 1000
        },
        "id": "71xdUpbea7cK",
        "outputId": "fa97f732-ab97-487c-b5f7-4d33039eca91",
        "collapsed": true
      },
      "execution_count": null,
      "outputs": [
        {
          "output_type": "stream",
          "name": "stdout",
          "text": [
            "\u001b[38;5;33mDesign Variables:\u001b[0m [50, 600, 3.5, 250, 0.3]\n",
            "\u001b[38;5;33mCalculated Attributes:\u001b[0m RM: 0.8389423076923076, IE: 0.8615107913669064, FE: 0.8641411648568608, AC: 0.7857142857142857\n",
            "\u001b[38;5;33mDesign Variables:\u001b[0m [50.5, 600, 3.5, 250, 0.3]\n",
            "\u001b[38;5;33mCalculated Attributes:\u001b[0m RM: 0.846153846153846, IE: 0.8597122302158272, FE: 0.8616732477788746, AC: 0.7857142857142857\n",
            "\u001b[38;5;33mDesign Variables:\u001b[0m [49.5, 600, 3.5, 250, 0.3]\n",
            "\u001b[38;5;33mCalculated Attributes:\u001b[0m RM: 0.8317307692307693, IE: 0.8633093525179856, FE: 0.866609081934847, AC: 0.7857142857142857\n",
            "\u001b[38;5;33mDesign Variables:\u001b[0m [50, 606.0, 3.5, 250, 0.3]\n",
            "\u001b[38;5;33mCalculated Attributes:\u001b[0m RM: 0.8389423076923076, IE: 0.8723021582733813, FE: 0.8752467917077985, AC: 0.7685714285714286\n",
            "\u001b[38;5;33mDesign Variables:\u001b[0m [50, 594.0, 3.5, 250, 0.3]\n",
            "\u001b[38;5;33mCalculated Attributes:\u001b[0m RM: 0.8389423076923076, IE: 0.8507194244604317, FE: 0.8530355380059229, AC: 0.8028571428571427\n",
            "\u001b[38;5;33mDesign Variables:\u001b[0m [50, 600, 3.535, 250, 0.3]\n",
            "\u001b[38;5;33mCalculated Attributes:\u001b[0m RM: 0.8401201923076922, IE: 0.8611330935251797, FE: 0.8641411648568608, AC: 0.7857142857142857\n",
            "\u001b[38;5;33mDesign Variables:\u001b[0m [50, 600, 3.465, 250, 0.3]\n",
            "\u001b[38;5;33mCalculated Attributes:\u001b[0m RM: 0.837764423076923, IE: 0.861888489208633, FE: 0.8641411648568608, AC: 0.7857142857142857\n",
            "\u001b[38;5;33mDesign Variables:\u001b[0m [50, 600, 3.5, 252.5, 0.3]\n",
            "\u001b[38;5;33mCalculated Attributes:\u001b[0m RM: 0.8389423076923076, IE: 0.8615107913669064, FE: 0.8641411648568608, AC: 0.8107142857142857\n",
            "\u001b[38;5;33mDesign Variables:\u001b[0m [50, 600, 3.5, 247.5, 0.3]\n",
            "\u001b[38;5;33mCalculated Attributes:\u001b[0m RM: 0.8389423076923076, IE: 0.8615107913669064, FE: 0.8641411648568608, AC: 0.7607142857142857\n",
            "\u001b[38;5;33mDesign Variables:\u001b[0m [50, 600, 3.5, 250, 0.303]\n",
            "\u001b[38;5;33mCalculated Attributes:\u001b[0m RM: 0.8389423076923076, IE: 0.8615107913669064, FE: 0.8641448667324777, AC: 0.7857142857142857\n",
            "\u001b[38;5;33mDesign Variables:\u001b[0m [50, 600, 3.5, 250, 0.297]\n",
            "\u001b[38;5;33mCalculated Attributes:\u001b[0m RM: 0.8389423076923076, IE: 0.8615107913669064, FE: 0.8641374629812438, AC: 0.7857142857142857\n"
          ]
        },
        {
          "output_type": "display_data",
          "data": {
            "text/plain": [
              "<IPython.core.display.HTML object>"
            ],
            "text/html": [
              "<h3 style='color: #4990F3; font-family: DM Sans;'>Revenue Sensitivity Analysis for Compact SUV (p1)</h3>"
            ]
          },
          "metadata": {}
        },
        {
          "output_type": "display_data",
          "data": {
            "text/plain": [
              "<pandas.io.formats.style.Styler at 0x7a2820738110>"
            ],
            "text/html": [
              "<style type=\"text/css\">\n",
              "#T_9776f th {\n",
              "  font-size: 14px;\n",
              "  text-align: center;\n",
              "  background-color: #4990F3;\n",
              "  color: white;\n",
              "  font-family: DM Sans;\n",
              "}\n",
              "#T_9776f td {\n",
              "  font-size: 13px;\n",
              "  text-align: center;\n",
              "  background-color: #9FADF2;\n",
              "  color: white;\n",
              "  font-family: DM Sans;\n",
              "}\n",
              "#T_9776f_row0_col0, #T_9776f_row0_col1, #T_9776f_row0_col2, #T_9776f_row1_col0, #T_9776f_row1_col1, #T_9776f_row1_col2, #T_9776f_row2_col0, #T_9776f_row2_col1, #T_9776f_row2_col2, #T_9776f_row3_col0, #T_9776f_row3_col1, #T_9776f_row3_col2, #T_9776f_row4_col0, #T_9776f_row4_col1, #T_9776f_row4_col2 {\n",
              "  border: 1px solid black;\n",
              "  padding: 8px;\n",
              "}\n",
              "</style>\n",
              "<table id=\"T_9776f\" class=\"dataframe\">\n",
              "  <thead>\n",
              "    <tr>\n",
              "      <th class=\"blank level0\" >&nbsp;</th>\n",
              "      <th id=\"T_9776f_level0_col0\" class=\"col_heading level0 col0\" >Variable</th>\n",
              "      <th id=\"T_9776f_level0_col1\" class=\"col_heading level0 col1\" >-1%</th>\n",
              "      <th id=\"T_9776f_level0_col2\" class=\"col_heading level0 col2\" >+1%</th>\n",
              "    </tr>\n",
              "  </thead>\n",
              "  <tbody>\n",
              "    <tr>\n",
              "      <th id=\"T_9776f_level0_row0\" class=\"row_heading level0 row0\" >0</th>\n",
              "      <td id=\"T_9776f_row0_col0\" class=\"data row0 col0\" >BC (Battery Capacity)</td>\n",
              "      <td id=\"T_9776f_row0_col1\" class=\"data row0 col1\" >-0.140000</td>\n",
              "      <td id=\"T_9776f_row0_col2\" class=\"data row0 col2\" >0.140000</td>\n",
              "    </tr>\n",
              "    <tr>\n",
              "      <th id=\"T_9776f_level0_row1\" class=\"row_heading level0 row1\" >1</th>\n",
              "      <td id=\"T_9776f_row1_col0\" class=\"data row1 col0\" >PW (Platform Weight)</td>\n",
              "      <td id=\"T_9776f_row1_col1\" class=\"data row1 col1\" >-0.230000</td>\n",
              "      <td id=\"T_9776f_row1_col2\" class=\"data row1 col2\" >0.230000</td>\n",
              "    </tr>\n",
              "    <tr>\n",
              "      <th id=\"T_9776f_level0_row2\" class=\"row_heading level0 row2\" >2</th>\n",
              "      <td id=\"T_9776f_row2_col0\" class=\"data row2 col0\" >MP (Motor Power)</td>\n",
              "      <td id=\"T_9776f_row2_col1\" class=\"data row2 col1\" >-0.040000</td>\n",
              "      <td id=\"T_9776f_row2_col2\" class=\"data row2 col2\" >0.040000</td>\n",
              "    </tr>\n",
              "    <tr>\n",
              "      <th id=\"T_9776f_level0_row3\" class=\"row_heading level0 row3\" >3</th>\n",
              "      <td id=\"T_9776f_row3_col0\" class=\"data row3 col0\" >ID (Interior Dimensions)</td>\n",
              "      <td id=\"T_9776f_row3_col1\" class=\"data row3 col1\" >-1.190000</td>\n",
              "      <td id=\"T_9776f_row3_col2\" class=\"data row3 col2\" >1.190000</td>\n",
              "    </tr>\n",
              "    <tr>\n",
              "      <th id=\"T_9776f_level0_row4\" class=\"row_heading level0 row4\" >4</th>\n",
              "      <td id=\"T_9776f_row4_col0\" class=\"data row4 col0\" >CD (Aerodynamic Coefficient)</td>\n",
              "      <td id=\"T_9776f_row4_col1\" class=\"data row4 col1\" >-0.000000</td>\n",
              "      <td id=\"T_9776f_row4_col2\" class=\"data row4 col2\" >0.000000</td>\n",
              "    </tr>\n",
              "  </tbody>\n",
              "</table>\n"
            ]
          },
          "metadata": {}
        },
        {
          "output_type": "display_data",
          "data": {
            "text/plain": [
              "<Figure size 800x600 with 1 Axes>"
            ],
            "image/png": "[encoded data removed]"
          },
          "metadata": {}
        }
      ]
    },
    {
      "cell_type": "markdown",
      "source": [
        "# Change Propagation Analysis\n",
        "\n",
        "GBM for Forecasting\n"
      ],
      "metadata": {
        "id": "lxMWVK1Noirh"
      }
    },
    {
      "cell_type": "code",
      "source": [
        "# Step 1: Define initial sales data for each variant, including Initial Production Volume\n",
        "vehicle_variants = {\n",
        "    'p1': {'name': 'Compact SUV', 'initial_sales': 50000},\n",
        "    'p2': {'name': 'Midsize SUV', 'initial_sales': 40000},\n",
        "    'p3': {'name': 'Full-size SUV', 'initial_sales': 30000},\n",
        "}\n",
        "\n",
        "# Step 2: Generate synthetic historical sales data (10 years)\n",
        "years = 20\n",
        "np.random.seed(42)\n",
        "\n",
        "for key, vehicle in vehicle_variants.items():\n",
        "    growth_rates = np.random.normal(loc=0.05, scale=0.02, size=years)  # Mean growth rate = 5%, volatility = 2%\n",
        "    sales = [vehicle['initial_sales']]\n",
        "    for rate in growth_rates:\n",
        "        sales.append(sales[-1] * (1 + rate))\n",
        "    vehicle_variants[key]['sales'] = sales\n",
        "\n",
        "# Step 3: Compute CAGR and Volatility\n",
        "def calculate_cagr(sales):\n",
        "    n = len(sales) - 1\n",
        "    return (sales[-1] / sales[0]) ** (1/n) - 1\n",
        "\n",
        "def calculate_volatility(sales):\n",
        "    log_returns = np.diff(np.log(sales))\n",
        "    return np.std(log_returns) * np.sqrt(252)  # Annualized volatility\n",
        "\n",
        "for key, vehicle in vehicle_variants.items():\n",
        "    sales = vehicle['sales']\n",
        "    vehicle['cagr'] = calculate_cagr(sales)\n",
        "    vehicle['volatility'] = calculate_volatility(sales)\n",
        "\n",
        "# Step 4: Forecast Future Sales using GBM (20 years)\n",
        "projection_years = 20\n",
        "time_steps = 252 * projection_years  # Daily time steps\n",
        "dt = 1 / 252  # Time increment per day\n",
        "\n",
        "future_sales = {}\n",
        "for key, vehicle in vehicle_variants.items():\n",
        "    S0 = vehicle['sales'][-1]  # Last known sales\n",
        "    mu = vehicle['cagr']\n",
        "    sigma = vehicle['volatility']\n",
        "\n",
        "    sales_projection = np.zeros(time_steps + 1)\n",
        "    sales_projection[0] = S0\n",
        "\n",
        "    for t in range(1, time_steps + 1):\n",
        "        random_shock = np.random.normal(0, 1)\n",
        "        sales_projection[t] = sales_projection[t - 1] * np.exp((mu - 0.5 * sigma**2) * dt + sigma * np.sqrt(dt) * random_shock)\n",
        "\n",
        "    future_sales[key] = sales_projection\n",
        "\n",
        "# Step 5: Determine Maximum Demand (95th percentile)\n",
        "max_demand = {key: np.percentile(future_sales[key], 95) for key in future_sales}\n",
        "\n",
        "# Step 6: Determine BIW Lines Required (Assume 1 line = 100,000 units capacity)\n",
        "biw_lines = {key: np.ceil(max_demand[key] / 100000) for key in max_demand}\n",
        "\n",
        "# Step 7: Create output DataFrame including Initial Production Volume\n",
        "results_df = pd.DataFrame({\n",
        "    \"Vehicle Variant\": [vehicle['name'] for vehicle in vehicle_variants.values()],\n",
        "    \"Initial Production Volume\": [vehicle['initial_sales'] for vehicle in vehicle_variants.values()],\n",
        "    \"Production Vol. Trend (α)\": [vehicle['cagr'] * 100 for vehicle in vehicle_variants.values()],\n",
        "    \"Volatility Coefficient (σ_v)\": [vehicle['volatility'] * 100 for vehicle in vehicle_variants.values()],\n",
        "    \"Maximum Demand\": max_demand.values(),\n",
        "    \"BIW Lines Required\": biw_lines.values()\n",
        "})\n",
        "\n",
        "# Display results as a formatted table\n",
        "import tabulate\n",
        "print(tabulate.tabulate(results_df, headers='keys', tablefmt='pretty'))\n",
        "\n",
        "# Step 8: Plot Sales Projections\n",
        "plt.figure(figsize=(12, 6))\n",
        "for key, vehicle in vehicle_variants.items():\n",
        "    plt.plot(np.linspace(0, projection_years, time_steps + 1), future_sales[key], label=vehicle['name'])\n",
        "plt.title(\"Projected Sales Volumes for Vehicle Variants (20 Years)\")\n",
        "plt.xlabel(\"Years\")\n",
        "plt.ylabel(\"Sales Volume\")\n",
        "plt.legend()\n",
        "plt.grid(True)\n",
        "plt.show()\n"
      ],
      "metadata": {
        "colab": {
          "base_uri": "https://localhost:8080/",
          "height": 685
        },
        "id": "L4UP87FTK2ua",
        "outputId": "633cdfcc-b8ca-41ce-d21a-657e5e0596fb"
      },
      "execution_count": null,
      "outputs": [
        {
          "output_type": "stream",
          "name": "stdout",
          "text": [
            "+---+-----------------+---------------------------+---------------------------+------------------------------+--------------------+--------------------+\n",
            "|   | Vehicle Variant | Initial Production Volume | Production Vol. Trend (α) | Volatility Coefficient (σ_v) |   Maximum Demand   | BIW Lines Required |\n",
            "+---+-----------------+---------------------------+---------------------------+------------------------------+--------------------+--------------------+\n",
            "| 0 |   Compact SUV   |           50000           |     4.640670015979054     |      28.389455226042067      | 898769.5208575693  |        9.0         |\n",
            "| 1 |   Midsize SUV   |           40000           |     4.451083159910141     |      28.580534352445035      |  89291.5585351612  |        1.0         |\n",
            "| 2 |  Full-size SUV  |           30000           |     4.93436451378253      |      24.288828609671036      | 252966.70458007013 |        3.0         |\n",
            "+---+-----------------+---------------------------+---------------------------+------------------------------+--------------------+--------------------+\n"
          ]
        },
        {
          "output_type": "display_data",
          "data": {
            "text/plain": [
              "<Figure size 1200x600 with 1 Axes>"
            ],
            "image/png": "[encoded data removed]"
          },
          "metadata": {}
        }
      ]
    }
  ]
}